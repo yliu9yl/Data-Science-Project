{
    "cells": [
        {
            "cell_type": "markdown",
            "metadata": {
                "collapsed": true
            },
            "source": "# Introduction"
        },
        {
            "cell_type": "markdown",
            "metadata": {},
            "source": "### The goal of this project is to provide suggestions on selecting neighborhood for opening an Asian restaurant in Amsterdam. \n### The audience of this project is people who want to open an Asian restaurant in Amsterdam. They will find the outcome of this project useful because neighborhood will determine the passenger flow and the environment, which is crucial for opening an restaurant. Therefore, finding similar neighborhoods as the neighborhood of top-rated restaurant will be helpful. \n### To do that, first, I obtained the target neighborhood where top rated Asian restaurant is located. Second, I clustered all neighborhoods of Amsterdam by their nearby venues. Finally, neighborhoods that are in the same group with the target neighborhood are recommended choices of neighborhood for opening an Asian restaurant in Amsterdam. "
        },
        {
            "cell_type": "markdown",
            "metadata": {},
            "source": "# Procedure and Data Source\n1. Get the neighborhoods of Amsterdam from ___wikipedia___. \n2. Get the latitudes and longitudes of these neighborhoods through ___geopy___. \n3. Find Asian restaurants near Amsterdam (within 5000m) through ___Foursquare___. \n4. Find the highest rated one among these restaurants through ___Foursquare___ and the neighborhood it is located in. \n5. Get the nearby venues of the neighborhoods of Amsterdam through ___Foursquare___. \n6. Cluster the neighborhoods based on their nearby venues using ___KMeans___. \n7. Find the neighborhoods that are in the same cluster as the top rated Asian restaurant. \n8. Visualize the clustered neighborhoods of Amsterdam on map using ___Folium___. \n\n\n"
        },
        {
            "cell_type": "code",
            "execution_count": null,
            "metadata": {},
            "outputs": [],
            "source": ""
        }
    ],
    "metadata": {
        "kernelspec": {
            "display_name": "Python 3.6",
            "language": "python",
            "name": "python3"
        },
        "language_info": {
            "codemirror_mode": {
                "name": "ipython",
                "version": 3
            },
            "file_extension": ".py",
            "mimetype": "text/x-python",
            "name": "python",
            "nbconvert_exporter": "python",
            "pygments_lexer": "ipython3",
            "version": "3.6.9"
        }
    },
    "nbformat": 4,
    "nbformat_minor": 1
}